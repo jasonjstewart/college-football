{
  "nbformat": 4,
  "nbformat_minor": 0,
  "metadata": {
    "colab": {
      "name": "Modeling College Football FG LogReg.ipynb",
      "provenance": [],
      "collapsed_sections": [],
      "include_colab_link": true
    },
    "kernelspec": {
      "name": "python3",
      "display_name": "Python 3"
    }
  },
  "cells": [
    {
      "cell_type": "markdown",
      "metadata": {
        "id": "view-in-github",
        "colab_type": "text"
      },
      "source": [
        "<a href=\"https://colab.research.google.com/github/jasonjstewart/college-football/blob/master/Modeling_College_Football_FG_LogReg.ipynb\" target=\"_parent\"><img src=\"https://colab.research.google.com/assets/colab-badge.svg\" alt=\"Open In Colab\"/></a>"
      ]
    },
    {
      "cell_type": "code",
      "metadata": {
        "id": "a1ipiQjbJYLA",
        "colab_type": "code",
        "colab": {
          "base_uri": "https://localhost:8080/",
          "height": 179
        },
        "outputId": "3f356bd4-6308-4156-9c12-1cb45b1e41c6"
      },
      "source": [
        "#DATA CLEANING\n",
        "## Data Imports\n",
        "import numpy as np\n",
        "import pandas as pd\n",
        "from pandas import Series, DataFrame\n",
        "\n",
        "import math\n",
        "\n",
        "## Visualization imports\n",
        "from matplotlib import pyplot as plt\n",
        "\n",
        "import seaborn as sns\n",
        "sns.set_style('whitegrid')\n",
        "%matplotlib inline\n",
        "\n",
        "## Machine Learning Imports\n",
        "import sklearn.metrics\n",
        "from sklearn.linear_model import LogisticRegression\n",
        "from sklearn.model_selection import train_test_split, cross_val_score\n",
        "\n",
        "## For evaluating our Log Reg result\n",
        "from sklearn import metrics\n",
        "\n",
        "df=pd.read_csv('https://jasonstewart.s3.amazonaws.com/LogReg+Final+CSV.csv')\n",
        "# points_scored=[]\n",
        "# for row in df['success_or_failure']:\n",
        "#   if row==0:\n",
        "#     points_scored.append(0)\n",
        "#   else:\n",
        "#     points_scored.append(3)\n",
        "# df['points_scored']=points_scored\n",
        "# df\n",
        "\n",
        "# scoring=[]\n",
        "# for row in df['scoring']:\n",
        "#   if row==False:\n",
        "#     scoring.append(0)\n",
        "#   else:\n",
        "#     scoring.append(1)\n",
        "# df['scoring']=scoring\n",
        "# df.describe()\n",
        "\n",
        "# cf=[]\n",
        "# for row in df['conference_game']:\n",
        "#   if row==False:\n",
        "#     cf.append(0)\n",
        "#   else:\n",
        "#     cf.append(1)\n",
        "# df['conference_game']=cf\n",
        "# df\n",
        "# ns=[]\n",
        "# for row in df['neutral_site']:\n",
        "#   if row==False:\n",
        "#     ns.append(0)\n",
        "#   else:\n",
        "#     ns.append(1)\n",
        "# df['neutral_site']=ns\n",
        "\n",
        "# df.drop(['next_drive_start_yardline',\t'next_drive_start_yards_to_goal',\t'next_drive_end_period',\t'next_drive_end_yardline',\t'next_drive_end_yards_to_goal',\t'next_drive_plays',\t'next_drive_yards',\t'points_scored',\t'next_drive_points_scored','Unnamed: 0','Unnamed: 0.1','Unnamed: 0.1.1','offense','id','defense','drive_result','defense_conference','attendance','offense_conference','next_drive_defense_conference','next_drive_scoring','next_drive_start_period','next_drive_offense','next_drive_defense','next_drive_offense_conference','drive_id','next_drive_id','next_drive_game_id','next_drive_start_time','next_drive_yard_line','next_drive_yards_to_goal','next_drive_end_time','next_drive_elapsed','next_drive_drive_result'], axis=1, inplace=True)\n",
        "# df.drop(['play_type','down','start_period','start_yardline','start_yards_to_goal',\t'start_time',\t'end_period',\t'end_yardline',\t'end_yards_to_goal',\t'end_time',\t'elapsed', 'away_id', 'excitement_index', 'game_id','home_post_win_prob', 'conference_game', 'neutral_site', 'season_type', 'away_post_win_prob', 'scoring'], axis=1, inplace=True)\n",
        "# df.dropna(axis=1)\n",
        "\n",
        "df.head(3)"
      ],
      "execution_count": null,
      "outputs": [
        {
          "output_type": "execute_result",
          "data": {
            "text/html": [
              "<div>\n",
              "<style scoped>\n",
              "    .dataframe tbody tr th:only-of-type {\n",
              "        vertical-align: middle;\n",
              "    }\n",
              "\n",
              "    .dataframe tbody tr th {\n",
              "        vertical-align: top;\n",
              "    }\n",
              "\n",
              "    .dataframe thead th {\n",
              "        text-align: right;\n",
              "    }\n",
              "</style>\n",
              "<table border=\"1\" class=\"dataframe\">\n",
              "  <thead>\n",
              "    <tr style=\"text-align: right;\">\n",
              "      <th></th>\n",
              "      <th>Unnamed: 0</th>\n",
              "      <th>home</th>\n",
              "      <th>offense_score</th>\n",
              "      <th>defense_score</th>\n",
              "      <th>period</th>\n",
              "      <th>clock</th>\n",
              "      <th>yard_line</th>\n",
              "      <th>yards_to_goal</th>\n",
              "      <th>distance</th>\n",
              "      <th>yards_gained</th>\n",
              "      <th>ppa</th>\n",
              "      <th>plays</th>\n",
              "      <th>yards</th>\n",
              "      <th>season</th>\n",
              "      <th>week</th>\n",
              "      <th>success_or_failure</th>\n",
              "    </tr>\n",
              "  </thead>\n",
              "  <tbody>\n",
              "    <tr>\n",
              "      <th>0</th>\n",
              "      <td>0</td>\n",
              "      <td>0</td>\n",
              "      <td>0</td>\n",
              "      <td>7</td>\n",
              "      <td>1</td>\n",
              "      <td>89</td>\n",
              "      <td>36</td>\n",
              "      <td>36</td>\n",
              "      <td>4</td>\n",
              "      <td>5</td>\n",
              "      <td>2.130077</td>\n",
              "      <td>12</td>\n",
              "      <td>64</td>\n",
              "      <td>2015</td>\n",
              "      <td>11</td>\n",
              "      <td>0</td>\n",
              "    </tr>\n",
              "    <tr>\n",
              "      <th>1</th>\n",
              "      <td>1</td>\n",
              "      <td>1</td>\n",
              "      <td>0</td>\n",
              "      <td>0</td>\n",
              "      <td>1</td>\n",
              "      <td>696</td>\n",
              "      <td>68</td>\n",
              "      <td>32</td>\n",
              "      <td>2</td>\n",
              "      <td>-10</td>\n",
              "      <td>-2.672218</td>\n",
              "      <td>6</td>\n",
              "      <td>19</td>\n",
              "      <td>2018</td>\n",
              "      <td>5</td>\n",
              "      <td>0</td>\n",
              "    </tr>\n",
              "    <tr>\n",
              "      <th>2</th>\n",
              "      <td>2</td>\n",
              "      <td>0</td>\n",
              "      <td>3</td>\n",
              "      <td>7</td>\n",
              "      <td>1</td>\n",
              "      <td>315</td>\n",
              "      <td>56</td>\n",
              "      <td>56</td>\n",
              "      <td>2</td>\n",
              "      <td>0</td>\n",
              "      <td>-0.589364</td>\n",
              "      <td>5</td>\n",
              "      <td>19</td>\n",
              "      <td>2015</td>\n",
              "      <td>6</td>\n",
              "      <td>0</td>\n",
              "    </tr>\n",
              "  </tbody>\n",
              "</table>\n",
              "</div>"
            ],
            "text/plain": [
              "   Unnamed: 0  home  offense_score  ...  season  week  success_or_failure\n",
              "0           0     0              0  ...    2015    11                   0\n",
              "1           1     1              0  ...    2018     5                   0\n",
              "2           2     0              3  ...    2015     6                   0\n",
              "\n",
              "[3 rows x 16 columns]"
            ]
          },
          "metadata": {
            "tags": []
          },
          "execution_count": 72
        }
      ]
    },
    {
      "cell_type": "code",
      "metadata": {
        "id": "JruddWzz2cWq",
        "colab_type": "code",
        "colab": {}
      },
      "source": [
        "df.to_csv('LogReg Final CSV.csv')"
      ],
      "execution_count": null,
      "outputs": []
    },
    {
      "cell_type": "code",
      "metadata": {
        "id": "J4pkTtWILAuU",
        "colab_type": "code",
        "colab": {}
      },
      "source": [
        "#FIX SKEWNESS, NEED TO ACCOUNT FOR NEGATIVE SKEWNESS\n",
        "#MAY NEED TO LOOK AT https://app.myeducator.com/reader/web/1702a/p1/wb00d/ in the textbook, \n",
        "# not sure if you have access to this one or this one https://app.myeducator.com/reader/web/1702/p1/re4ji/\n",
        "#Look into binning if needed, probably wont.\n",
        "\n",
        "\n",
        "def fix_skew(df, feature):\n",
        "  import numpy as np\n",
        "  # check for positive skewness\n",
        "  if df[feature].skew() > 1:\n",
        "    # generate the new columns to test\n",
        "    df[feature + '_SR'] = np.sqrt(df[feature])\n",
        "    df[feature + '_CR'] = np.cbrt(df[feature])\n",
        "    df[feature + '_LN'] = np.log(df[feature] + 1)\n",
        "    # df[feature + '_BIN'] = bin_numeric(df[feature])[2]\n",
        "    print(df.skew())\n",
        "    \n",
        "    # get dummies\n",
        "    for col in df:\n",
        "      if not pd.api.types.is_numeric_dtype(df[col]):\n",
        "        df = df.join(pd.get_dummies(df[col], prefix=col, drop_first=True))\n",
        "\n",
        "    # get numeric columns\n",
        "    df = df.select_dtypes(np.number)\n",
        "    df_minmax = pd.DataFrame(preprocessing.MinMaxScaler().fit_transform(df), columns=df.columns)\n",
        "\n",
        "    # test original feature\n",
        "    y = df_minmax[feature]\n",
        "    X = df_minmax.drop(columns=[feature, feature + '_LN', feature + '_SR', feature + '_CR']).assign(const=1)\n",
        "\n",
        "    results = sm.OLS(y, X).fit()\n",
        "    print(results.summary())\n",
        "\n",
        "    # test square root feature\n",
        "    y = df_minmax[feature + '_SR']\n",
        "    X = df_minmax.drop(columns=[feature, feature + '_LN', feature + '_SR', feature + '_CR']).assign(const=1)\n",
        "\n",
        "    results = sm.OLS(y, X).fit()\n",
        "    print(results.summary())\n",
        "\n",
        "    # test cube root feature\n",
        "    y = df_minmax[feature + '_CR']\n",
        "    X = df_minmax.drop(columns=[feature, feature + '_LN', feature + '_SR', feature + '_CR']).assign(const=1)\n",
        "\n",
        "    results = sm.OLS(y, X).fit()\n",
        "    print(results.summary())\n",
        "\n",
        "    # test log feature\n",
        "    y = df_minmax[feature + '_LN']\n",
        "    X = df_minmax.drop(columns=[feature, feature + '_LN', feature + '_SR', feature + '_CR']).assign(const=1)\n",
        "\n",
        "    results = sm.OLS(y, X).fit()\n",
        "    print(results.summary())\n",
        "\n",
        "    # test binning feature\n",
        "    # y = df_minmax[feature + '_BIN']\n",
        "    # X = df_minmax.drop(columns=[feature, feature + '_LN', feature + '_SR', feature + '_CR', feature + '_BIN']).assign(const=1)\n",
        "\n",
        "    # results = sm.OLS(y, X).fit()\n",
        "    # print(results.summary())\n",
        "\n",
        "\n",
        "  elif df[feature].skew() < -1:\n",
        "    # here we would fix negatively skewed variables if there were any in this dataset\n",
        "    #$*$*$*$**$*$*$*$*$*$*$*$*$*$*$*$*$*$*$*$*$*$%^~!$@$$&^^%$@$!#@#&#$@!##$#*&#^@%%%#$!@$%$#&%^*@#$%!@#$%@#$^#$&#$@#$!#$@^#%&#$&*$%^*$%@#^$@#$%#$&$%*#$%#@&$^#$%&#%^*\n",
        "    #need to account for negative skewness\n",
        "    return\n",
        "  else:\n",
        "    # return if skewness is between -1 and 1; negligible\n",
        "    return"
      ],
      "execution_count": null,
      "outputs": []
    },
    {
      "cell_type": "code",
      "metadata": {
        "id": "mI2p7lgLLFMr",
        "colab_type": "code",
        "colab": {}
      },
      "source": [
        "#CORRECT OUTLIERS, this first part checks to see if there are outliers\n",
        "outliers = pd.DataFrame(columns=['min', 'count below', 'max', 'count above'])\n",
        "\n",
        "# save the max to compare later\n",
        "# peak_max = df[''].mean() + (df[''].std() * 3)\n",
        "\n",
        "# Loop through each column in the dataframe except those that are: 1) categorical, 2) empty, or 3) binary (0/1)\n",
        "for col in df:\n",
        "  if pd.api.types.is_numeric_dtype(df[col]) and (len(df[col].value_counts()) > 0) and not all(df[col].value_counts().index.isin([0, 1])):\n",
        "    # Calculate the theoretical min/max\n",
        "    min = int(df[col].mean() - (df[col].std() * 3))\n",
        "    max = int(df[col].mean() + (df[col].std() * 3))\n",
        "    outliers.loc[col] = (min, df[col][df[col] < min].count(), max, df[col][df[col] > max].count())\n",
        "\n",
        "outliers\n",
        "\n",
        "#Goes through each column in DF to replace outliers with min or max\n",
        "def manage_outliers(df):\n",
        "  for col in df:\n",
        "    if pd.api.types.is_numeric_dtype(df[col]) and (len(df[col].value_counts()) > 0) and not all(df[col].value_counts().index.isin([0, 1])):\n",
        "      min = df[col].mean() - (df[col].std() * 3)\n",
        "      max = df[col].mean() + (df[col].std() * 3)\n",
        "\n",
        "      # Once the min/max is calculated for a column, take an inner loop through the row values of each column to replace values\n",
        "      for i, value in enumerate(df[col]): \n",
        "        if value < min:      \n",
        "          df.at[i, col + '_3std'] = min  # replace with min\n",
        "          df.at[i, 'outlier'] = 1         # identify the record as an outlier for future filtering\n",
        "        elif value > max:    \n",
        "          df.at[i, col + '_3std'] = max   # replace with max\n",
        "          df.at[i, 'outlier'] = 1\n",
        "        else:                \n",
        "          df.at[i, col + '_3std'] = value # use original value\n",
        "          df.at[i, 'outlier'] = 0\n",
        "    \n",
        "  # I don't like binary variables like \"outlier\" becoming floats; cast it back to an int\n",
        "  # if 'outlier' in df.columns:\n",
        "  #   df = df.astype({\"outlier\": int})\n",
        "\n",
        "  # View the cleaned dataset:\n",
        "  print(df.head())"
      ],
      "execution_count": null,
      "outputs": []
    },
    {
      "cell_type": "code",
      "metadata": {
        "id": "blvRk4QmLLT8",
        "colab_type": "code",
        "colab": {}
      },
      "source": [
        "#There shouldnt be any missing data, like I am 99% sure there isnt missing data but could be good to double check\n",
        "\n",
        "#THIS BELOW COMES STRAIGHT FROM THE BOOK BUT IT SHOULD WORK\n",
        "def manage_missing_data(df):\n",
        "      import pandas as pd\n",
        "      from scipy import stats\n",
        "\n",
        "      for col_y in df:                                        # for each column in df to fill\n",
        "        if df[col_y].isnull().sum() > 0:                      # if there is missing data to fill\n",
        "          if is_numeric(df[col_y]):                           # and if that column is numeric\n",
        "            r_list = df.corr()[col_y].abs()                   # create a correlation matrix for just the col_y feature; get absolute values to eliminate sign (+/-)\n",
        "            r_list.sort_values(inplace=True, ascending=False) # sort the list descending (we want the second item in the list because the first is itself where r = 1.0)\n",
        "\n",
        "            col_x = r_list.index[1] # Store the index name of the highest correlation\n",
        "\n",
        "            # Create a new df with missing values of y and x dropped\n",
        "            clean_df = df.copy()\n",
        "            clean_df.dropna(subset=[col_y, col_x], inplace=True)\n",
        "\n",
        "            # Calculate the regression line: y = m(x) + b\n",
        "            m, b, r, p, err = stats.linregress(clean_df[col_x], clean_df[col_y])\n",
        "\n",
        "            # enumerate() allows us to include a count-based index (i) along with the value\n",
        "            for i, value in enumerate(df[col_y].values):\n",
        "              if not pd.notnull(value):\n",
        "                imputed_value = round((m * df[col_x][i]) + b, 1)\n",
        "\n",
        "                # if the prediction is outside the range of actual values, then replace it with the min/max\n",
        "                if imputed_value < df[col_y].min():\n",
        "                  df[col_y][i] = df[col_y].min()\n",
        "                elif imputed_value > df[col_y].max():\n",
        "                  df[col_y][i] = df[col_y].max()\n",
        "                else:\n",
        "                  df[col_y][i] = imputed_value\n",
        "      return df"
      ],
      "execution_count": null,
      "outputs": []
    },
    {
      "cell_type": "code",
      "metadata": {
        "id": "0GtdQo7BLNnG",
        "colab_type": "code",
        "colab": {}
      },
      "source": [
        "# #imput value for attendance that is 0 not null\n",
        "# import pandas as pd\n",
        "# from scipy import stats\n",
        "\n",
        "# # for each column in df to fill\n",
        "# # if there is missing data to fill\n",
        "# # and if that column is numeric\n",
        "# r_list = df.corr()['attendance'].abs()                   # create a correlation matrix for just the col_y feature; get absolute values to eliminate sign (+/-)\n",
        "# r_list.sort_values(inplace=True, ascending=False) # sort the list descending (we want the second item in the list because the first is itself where r = 1.0)\n",
        "\n",
        "# col_x = r_list.index[1] # Store the index name of the highest correlation\n",
        "\n",
        "# # Create a new df with missing values of y and x dropped\n",
        "# clean_df = df.copy()\n",
        "# clean_df.dropna(subset=['attendance', col_x], inplace=True)\n",
        "\n",
        "# # Calculate the regression line: y = m(x) + b\n",
        "# m, b, r, p, err = stats.linregress(clean_df[col_x], clean_df['attendance'])\n",
        "\n",
        "# # enumerate() allows us to include a count-based index (i) along with the value\n",
        "# for i, value in enumerate(df['attendance'].values):\n",
        "#   imputed_value = round((m * df[col_x][i]) + b, 1)\n",
        "\n",
        "#   # if the prediction is outside the range of actual values, then replace it with the min/max\n",
        "#   # if imputed_value < df['attendance'].min():\n",
        "#   #   df['attendance'][i] = df['attendance'].min()\n",
        "#   if df['attendance'][i]==0:\n",
        "#     df['attendance'][i] = imputed_value\n",
        "#   elif imputed_value < df['attendance'].min():\n",
        "#     df['attendance'][i] = df['attendance'].min()\n",
        "#   elif imputed_value > df['attendance'].max():\n",
        "#     df['attendance'][i] = df['attendance'].max()\n",
        "#   else:\n",
        "#     df['attendance'][i] = imputed_value\n",
        "\n",
        "# df.head(25)"
      ],
      "execution_count": null,
      "outputs": []
    },
    {
      "cell_type": "code",
      "metadata": {
        "id": "94KbmkWHLQb9",
        "colab_type": "code",
        "colab": {
          "base_uri": "https://localhost:8080/",
          "height": 1000
        },
        "outputId": "1f7ac8eb-3eb7-4534-acae-eb0451a49cd4"
      },
      "source": [
        "# def data_cleaning(df):\n",
        "#   manage_missing_data(df)\n",
        "#   manage_outliers(df)\n",
        "#   for col in df:\n",
        "#     fix_skew(df, col)\n",
        "# # df.to_csv('college-football-data-p5-4th-down.csv') #change the name and it will output\n",
        "# data_cleaning(df)\n",
        "# df.head(3)"
      ],
      "execution_count": null,
      "outputs": [
        {
          "output_type": "stream",
          "text": [
            "   Unnamed: 0  home  offense_score  ...  yards_3std  season_3std  week_3std\n",
            "0           0     0              0  ...        64.0       2015.0       11.0\n",
            "1           1     1              0  ...        19.0       2018.0        5.0\n",
            "2           2     0              3  ...        19.0       2015.0        6.0\n",
            "3           3     1             14  ...        25.0       2014.0        4.0\n",
            "4           4     1              0  ...        74.0       2014.0        4.0\n",
            "\n",
            "[5 rows x 31 columns]\n",
            "Unnamed: 0            0.000000\n",
            "home                 -0.259158\n",
            "offense_score         1.050551\n",
            "defense_score         0.607788\n",
            "period               -0.485519\n",
            "clock                 0.259325\n",
            "yard_line            -0.082750\n",
            "yards_to_goal         0.362209\n",
            "distance              1.953465\n",
            "yards_gained          1.528253\n",
            "ppa                  -0.022480\n",
            "plays                 0.470479\n",
            "yards                -0.251663\n",
            "season                0.016809\n",
            "week                 -0.044381\n",
            "success_or_failure    0.466151\n",
            "Unnamed: 0_3std       0.000000\n",
            "outlier               0.000000\n",
            "offense_score_3std    0.949134\n",
            "defense_score_3std    0.583379\n",
            "period_3std          -0.508759\n",
            "clock_3std            0.259325\n",
            "yard_line_3std       -0.082750\n",
            "yards_to_goal_3std    0.359363\n",
            "distance_3std         1.424970\n",
            "yards_gained_3std     1.332736\n",
            "ppa_3std             -0.008943\n",
            "plays_3std            0.426450\n",
            "yards_3std           -0.250475\n",
            "season_3std           0.016809\n",
            "week_3std            -0.044381\n",
            "offense_score_SR     -0.247908\n",
            "offense_score_CR     -0.892637\n",
            "offense_score_LN     -0.919667\n",
            "dtype: float64\n"
          ],
          "name": "stdout"
        },
        {
          "output_type": "error",
          "ename": "NameError",
          "evalue": "ignored",
          "traceback": [
            "\u001b[0;31m---------------------------------------------------------------------------\u001b[0m",
            "\u001b[0;31mNameError\u001b[0m                                 Traceback (most recent call last)",
            "\u001b[0;32m<ipython-input-59-af1bc9d009bd>\u001b[0m in \u001b[0;36m<module>\u001b[0;34m()\u001b[0m\n\u001b[1;32m      5\u001b[0m     \u001b[0mfix_skew\u001b[0m\u001b[0;34m(\u001b[0m\u001b[0mdf\u001b[0m\u001b[0;34m,\u001b[0m \u001b[0mcol\u001b[0m\u001b[0;34m)\u001b[0m\u001b[0;34m\u001b[0m\u001b[0;34m\u001b[0m\u001b[0m\n\u001b[1;32m      6\u001b[0m \u001b[0;31m# df.to_csv('college-football-data-p5-4th-down.csv') #change the name and it will output\u001b[0m\u001b[0;34m\u001b[0m\u001b[0;34m\u001b[0m\u001b[0;34m\u001b[0m\u001b[0m\n\u001b[0;32m----> 7\u001b[0;31m \u001b[0mdata_cleaning\u001b[0m\u001b[0;34m(\u001b[0m\u001b[0mdf\u001b[0m\u001b[0;34m)\u001b[0m\u001b[0;34m\u001b[0m\u001b[0;34m\u001b[0m\u001b[0m\n\u001b[0m\u001b[1;32m      8\u001b[0m \u001b[0mdf\u001b[0m\u001b[0;34m.\u001b[0m\u001b[0mhead\u001b[0m\u001b[0;34m(\u001b[0m\u001b[0;36m3\u001b[0m\u001b[0;34m)\u001b[0m\u001b[0;34m\u001b[0m\u001b[0;34m\u001b[0m\u001b[0m\n",
            "\u001b[0;32m<ipython-input-59-af1bc9d009bd>\u001b[0m in \u001b[0;36mdata_cleaning\u001b[0;34m(df)\u001b[0m\n\u001b[1;32m      3\u001b[0m   \u001b[0mmanage_outliers\u001b[0m\u001b[0;34m(\u001b[0m\u001b[0mdf\u001b[0m\u001b[0;34m)\u001b[0m\u001b[0;34m\u001b[0m\u001b[0;34m\u001b[0m\u001b[0m\n\u001b[1;32m      4\u001b[0m   \u001b[0;32mfor\u001b[0m \u001b[0mcol\u001b[0m \u001b[0;32min\u001b[0m \u001b[0mdf\u001b[0m\u001b[0;34m:\u001b[0m\u001b[0;34m\u001b[0m\u001b[0;34m\u001b[0m\u001b[0m\n\u001b[0;32m----> 5\u001b[0;31m     \u001b[0mfix_skew\u001b[0m\u001b[0;34m(\u001b[0m\u001b[0mdf\u001b[0m\u001b[0;34m,\u001b[0m \u001b[0mcol\u001b[0m\u001b[0;34m)\u001b[0m\u001b[0;34m\u001b[0m\u001b[0;34m\u001b[0m\u001b[0m\n\u001b[0m\u001b[1;32m      6\u001b[0m \u001b[0;31m# df.to_csv('college-football-data-p5-4th-down.csv') #change the name and it will output\u001b[0m\u001b[0;34m\u001b[0m\u001b[0;34m\u001b[0m\u001b[0;34m\u001b[0m\u001b[0m\n\u001b[1;32m      7\u001b[0m \u001b[0mdata_cleaning\u001b[0m\u001b[0;34m(\u001b[0m\u001b[0mdf\u001b[0m\u001b[0;34m)\u001b[0m\u001b[0;34m\u001b[0m\u001b[0;34m\u001b[0m\u001b[0m\n",
            "\u001b[0;32m<ipython-input-56-68acaa8690bb>\u001b[0m in \u001b[0;36mfix_skew\u001b[0;34m(df, feature)\u001b[0m\n\u001b[1;32m     23\u001b[0m     \u001b[0;31m# get numeric columns\u001b[0m\u001b[0;34m\u001b[0m\u001b[0;34m\u001b[0m\u001b[0;34m\u001b[0m\u001b[0m\n\u001b[1;32m     24\u001b[0m     \u001b[0mdf\u001b[0m \u001b[0;34m=\u001b[0m \u001b[0mdf\u001b[0m\u001b[0;34m.\u001b[0m\u001b[0mselect_dtypes\u001b[0m\u001b[0;34m(\u001b[0m\u001b[0mnp\u001b[0m\u001b[0;34m.\u001b[0m\u001b[0mnumber\u001b[0m\u001b[0;34m)\u001b[0m\u001b[0;34m\u001b[0m\u001b[0;34m\u001b[0m\u001b[0m\n\u001b[0;32m---> 25\u001b[0;31m     \u001b[0mdf_minmax\u001b[0m \u001b[0;34m=\u001b[0m \u001b[0mpd\u001b[0m\u001b[0;34m.\u001b[0m\u001b[0mDataFrame\u001b[0m\u001b[0;34m(\u001b[0m\u001b[0mpreprocessing\u001b[0m\u001b[0;34m.\u001b[0m\u001b[0mMinMaxScaler\u001b[0m\u001b[0;34m(\u001b[0m\u001b[0;34m)\u001b[0m\u001b[0;34m.\u001b[0m\u001b[0mfit_transform\u001b[0m\u001b[0;34m(\u001b[0m\u001b[0mdf\u001b[0m\u001b[0;34m)\u001b[0m\u001b[0;34m,\u001b[0m \u001b[0mcolumns\u001b[0m\u001b[0;34m=\u001b[0m\u001b[0mdf\u001b[0m\u001b[0;34m.\u001b[0m\u001b[0mcolumns\u001b[0m\u001b[0;34m)\u001b[0m\u001b[0;34m\u001b[0m\u001b[0;34m\u001b[0m\u001b[0m\n\u001b[0m\u001b[1;32m     26\u001b[0m \u001b[0;34m\u001b[0m\u001b[0m\n\u001b[1;32m     27\u001b[0m     \u001b[0;31m# test original feature\u001b[0m\u001b[0;34m\u001b[0m\u001b[0;34m\u001b[0m\u001b[0;34m\u001b[0m\u001b[0m\n",
            "\u001b[0;31mNameError\u001b[0m: name 'preprocessing' is not defined"
          ]
        }
      ]
    },
    {
      "cell_type": "code",
      "metadata": {
        "id": "Uual48v7iRk7",
        "colab_type": "code",
        "colab": {
          "base_uri": "https://localhost:8080/",
          "height": 306
        },
        "outputId": "7daa4189-9bff-4629-f6ab-c47e562fff13"
      },
      "source": [
        "import numpy as np\n",
        "import pandas as pd\n",
        "from pandas import Series, DataFrame\n",
        "import matplotlib.pyplot as plt\n",
        "import seaborn as sns\n",
        "import statsmodels.api as sm \n",
        "# df=pd.read_csv('https://jasonstewart.s3.amazonaws.com/college-football-data-p5-4th-down-final.csv')\n",
        "#df=pd.read_csv('https://jasonstewart.s3.amazonaws.com/college-football-data-fg-p5_final.csv')\n",
        "df = df.dropna(how='any',axis=0) \n",
        "\n",
        "pd.isnull(df).sum()"
      ],
      "execution_count": null,
      "outputs": [
        {
          "output_type": "execute_result",
          "data": {
            "text/plain": [
              "Unnamed: 0            0\n",
              "home                  0\n",
              "offense_score         0\n",
              "defense_score         0\n",
              "period                0\n",
              "clock                 0\n",
              "yard_line             0\n",
              "yards_to_goal         0\n",
              "distance              0\n",
              "yards_gained          0\n",
              "ppa                   0\n",
              "plays                 0\n",
              "yards                 0\n",
              "season                0\n",
              "week                  0\n",
              "success_or_failure    0\n",
              "dtype: int64"
            ]
          },
          "metadata": {
            "tags": []
          },
          "execution_count": 73
        }
      ]
    },
    {
      "cell_type": "code",
      "metadata": {
        "id": "NF872bhD06bX",
        "colab_type": "code",
        "colab": {}
      },
      "source": [
        "df.to_csv('LogReg Final CSV.csv')"
      ],
      "execution_count": null,
      "outputs": []
    },
    {
      "cell_type": "code",
      "metadata": {
        "id": "MM2Ss0MbMOJd",
        "colab_type": "code",
        "colab": {
          "base_uri": "https://localhost:8080/",
          "height": 85
        },
        "outputId": "f0006156-974a-4680-cc90-d617619d3817"
      },
      "source": [
        "\n",
        "\n",
        "import pandas as pd\n",
        "import numpy as np\n",
        "import statsmodels.api as sm\n",
        "import matplotlib.pyplot as plt\n",
        "\n",
        "label = \"success_or_failure\"\n",
        "X = df.drop(columns = ['success_or_failure'])\n",
        "\n",
        "y = df.success_or_failure\n",
        "\n",
        "# Set label and features\n",
        "log_model = LogisticRegression(C=1e5)\n",
        "\n",
        "log_model.fit(X, y)\n",
        "\n",
        "prediction = log_model.predict(X)\n",
        "prediction\n",
        "\n",
        "# View results\n",
        "print(log_model.intercept_, log_model.coef_,)"
      ],
      "execution_count": null,
      "outputs": [
        {
          "output_type": "stream",
          "text": [
            "[-0.00371907] [[ 2.52696301e+00 -1.02764007e-02  3.94859550e-01 -8.72104152e-01\n",
            "  -2.64167110e-03 -1.58737936e-02 -4.69803018e-01 -4.34561515e-01\n",
            "  -1.86484955e-01  7.41921482e-01  6.73949273e-01 -2.32726837e-01\n",
            "   4.01337363e-01 -7.17352155e+00 -3.17361907e-01]]\n"
          ],
          "name": "stdout"
        }
      ]
    },
    {
      "cell_type": "code",
      "metadata": {
        "id": "Kh8tqWyfh2_U",
        "colab_type": "code",
        "colab": {
          "base_uri": "https://localhost:8080/",
          "height": 34
        },
        "outputId": "fdd54249-41eb-4c4e-df1a-845dae147053"
      },
      "source": [
        "import sklearn.metrics\n",
        "metrics.accuracy_score(y, prediction)\n",
        "metrics.r2_score(y, prediction)"
      ],
      "execution_count": null,
      "outputs": [
        {
          "output_type": "execute_result",
          "data": {
            "text/plain": [
              "1.0"
            ]
          },
          "metadata": {
            "tags": []
          },
          "execution_count": 77
        }
      ]
    },
    {
      "cell_type": "code",
      "metadata": {
        "id": "hqwE_OTkh6He",
        "colab_type": "code",
        "colab": {
          "base_uri": "https://localhost:8080/",
          "height": 279
        },
        "outputId": "407703b0-28d1-48c7-8d40-5a2bf2db24b0"
      },
      "source": [
        "# Produce ROC chart and AUC\n",
        "\n",
        "from sklearn.metrics import roc_curve\n",
        "falsepos,truepos,thresholds=roc_curve(y,log_model.decision_function(X))\n",
        "\n",
        "plt.plot(falsepos,truepos,label=\"ROC\")\n",
        "plt.xlabel(\"False Positive Rate\")\n",
        "plt.ylabel(\"True Positive Rate\")\n",
        "\n",
        "cutoff=np.argmin(np.abs(thresholds))\n",
        "plt.plot(falsepos[cutoff],truepos[cutoff],'o',markersize=10,label=\"cutoff\",fillstyle=\"none\")\n",
        "plt.show()"
      ],
      "execution_count": null,
      "outputs": [
        {
          "output_type": "display_data",
          "data": {
            "image/png": "[encoded data removed]",
            "text/plain": [
              "<Figure size 432x288 with 1 Axes>"
            ]
          },
          "metadata": {
            "tags": [],
            "needs_background": "light"
          }
        }
      ]
    },
    {
      "cell_type": "code",
      "metadata": {
        "id": "vaII-IiXh982",
        "colab_type": "code",
        "colab": {
          "base_uri": "https://localhost:8080/",
          "height": 34
        },
        "outputId": "e9227b5b-a07b-4a8e-8060-d0dd58ef0c9f"
      },
      "source": [
        "#Now, let’s compute our AUC value:\n",
        "from sklearn import metrics\n",
        "metrics.auc(falsepos, truepos)"
      ],
      "execution_count": null,
      "outputs": [
        {
          "output_type": "execute_result",
          "data": {
            "text/plain": [
              "1.0"
            ]
          },
          "metadata": {
            "tags": []
          },
          "execution_count": 53
        }
      ]
    },
    {
      "cell_type": "code",
      "metadata": {
        "id": "iw28R1K7h_hO",
        "colab_type": "code",
        "colab": {
          "base_uri": "https://localhost:8080/",
          "height": 173
        },
        "outputId": "8ac62c44-f4cc-4a75-ca4a-41215bf8d595"
      },
      "source": [
        "## Create a confusion matrix \n",
        "# Financial condition of banks: 1 = weak; 0 = strong\n",
        "from sklearn.metrics import classification_report, confusion_matrix\n",
        "\n",
        "pd.crosstab(y, prediction, rownames=['True'], colnames=['Predicted'], margins=True)\n",
        "\n",
        "# Top is predicted, left is actual. So, Bottom right is True Positive, Bottom left is False Negative, Top right is False Positive, and top left is false negative\n"
      ],
      "execution_count": null,
      "outputs": [
        {
          "output_type": "execute_result",
          "data": {
            "text/html": [
              "<div>\n",
              "<style scoped>\n",
              "    .dataframe tbody tr th:only-of-type {\n",
              "        vertical-align: middle;\n",
              "    }\n",
              "\n",
              "    .dataframe tbody tr th {\n",
              "        vertical-align: top;\n",
              "    }\n",
              "\n",
              "    .dataframe thead th {\n",
              "        text-align: right;\n",
              "    }\n",
              "</style>\n",
              "<table border=\"1\" class=\"dataframe\">\n",
              "  <thead>\n",
              "    <tr style=\"text-align: right;\">\n",
              "      <th>Predicted</th>\n",
              "      <th>0</th>\n",
              "      <th>1</th>\n",
              "      <th>All</th>\n",
              "    </tr>\n",
              "    <tr>\n",
              "      <th>True</th>\n",
              "      <th></th>\n",
              "      <th></th>\n",
              "      <th></th>\n",
              "    </tr>\n",
              "  </thead>\n",
              "  <tbody>\n",
              "    <tr>\n",
              "      <th>0</th>\n",
              "      <td>5744</td>\n",
              "      <td>0</td>\n",
              "      <td>5744</td>\n",
              "    </tr>\n",
              "    <tr>\n",
              "      <th>1</th>\n",
              "      <td>0</td>\n",
              "      <td>3619</td>\n",
              "      <td>3619</td>\n",
              "    </tr>\n",
              "    <tr>\n",
              "      <th>All</th>\n",
              "      <td>5744</td>\n",
              "      <td>3619</td>\n",
              "      <td>9363</td>\n",
              "    </tr>\n",
              "  </tbody>\n",
              "</table>\n",
              "</div>"
            ],
            "text/plain": [
              "Predicted     0     1   All\n",
              "True                       \n",
              "0          5744     0  5744\n",
              "1             0  3619  3619\n",
              "All        5744  3619  9363"
            ]
          },
          "metadata": {
            "tags": []
          },
          "execution_count": 54
        }
      ]
    },
    {
      "cell_type": "code",
      "metadata": {
        "id": "AAmWvM0siBUi",
        "colab_type": "code",
        "colab": {
          "base_uri": "https://localhost:8080/",
          "height": 170
        },
        "outputId": "346a6995-e998-462d-9c3f-fc307f0d5958"
      },
      "source": [
        "## Create a classification report (precision, recall, F-Score)\n",
        "\n",
        "print(classification_report(y, prediction, labels=None, target_names=[\"Strong\",\"Weak\"], sample_weight=None, digits=2))"
      ],
      "execution_count": null,
      "outputs": [
        {
          "output_type": "stream",
          "text": [
            "              precision    recall  f1-score   support\n",
            "\n",
            "      Strong       0.86      0.87      0.87      5744\n",
            "        Weak       0.79      0.77      0.78      3619\n",
            "\n",
            "    accuracy                           0.83      9363\n",
            "   macro avg       0.83      0.82      0.82      9363\n",
            "weighted avg       0.83      0.83      0.83      9363\n",
            "\n"
          ],
          "name": "stdout"
        }
      ]
    },
    {
      "cell_type": "code",
      "metadata": {
        "id": "VAbFTyW6c5uC",
        "colab_type": "code",
        "colab": {}
      },
      "source": [
        ""
      ],
      "execution_count": null,
      "outputs": []
    }
  ]
}