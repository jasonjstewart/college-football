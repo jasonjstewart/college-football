{
  "nbformat": 4,
  "nbformat_minor": 0,
  "metadata": {
    "colab": {
      "name": "Naive Bayes FG.ipynb",
      "provenance": [],
      "collapsed_sections": [],
      "include_colab_link": true
    },
    "kernelspec": {
      "name": "python3",
      "display_name": "Python 3"
    }
  },
  "cells": [
    {
      "cell_type": "markdown",
      "metadata": {
        "id": "view-in-github",
        "colab_type": "text"
      },
      "source": [
        "<a href=\"https://colab.research.google.com/github/jasonjstewart/college-football/blob/master/Naive_Bayes_FG.ipynb\" target=\"_parent\"><img src=\"https://colab.research.google.com/assets/colab-badge.svg\" alt=\"Open In Colab\"/></a>"
      ]
    },
    {
      "cell_type": "code",
      "metadata": {
        "id": "Alp9ZwOiBQ6x",
        "colab_type": "code",
        "colab": {
          "base_uri": "https://localhost:8080/",
          "height": 479
        },
        "outputId": "f663badd-dc58-4674-861b-37f783811fb5"
      },
      "source": [
        "from IPython import display\n",
        "from matplotlib import cm\n",
        "from matplotlib import gridspec\n",
        "from matplotlib import pyplot as plt\n",
        "import numpy as np\n",
        "import pandas as pd\n",
        "from sklearn import metrics\n",
        "from sklearn.model_selection import train_test_split\n",
        "from sklearn.ensemble import RandomForestClassifier\n",
        "from sklearn.metrics import confusion_matrix\n",
        "from sklearn.metrics import roc_curve\n",
        "import matplotlib\n",
        "import matplotlib.pyplot as plt\n",
        "from sklearn.datasets import load_iris\n",
        "from sklearn.model_selection import train_test_split\n",
        "from sklearn.naive_bayes import GaussianNB\n",
        "import seaborn as sns\n",
        "from sklearn.metrics import roc_curve\n",
        "from sklearn.metrics import roc_auc_score\n",
        "from sklearn.metrics import classification_report, confusion_matrix, accuracy_score, r2_score\n",
        "\n",
        "\n",
        "url = \"https://jasonstewart.s3.amazonaws.com/college-football-data-fg-p5_final.csv\"\n",
        "\n",
        "dataset = pd.read_csv(url)\n",
        "\n",
        "dataset.head()"
      ],
      "execution_count": null,
      "outputs": [
        {
          "output_type": "execute_result",
          "data": {
            "text/html": [
              "<div>\n",
              "<style scoped>\n",
              "    .dataframe tbody tr th:only-of-type {\n",
              "        vertical-align: middle;\n",
              "    }\n",
              "\n",
              "    .dataframe tbody tr th {\n",
              "        vertical-align: top;\n",
              "    }\n",
              "\n",
              "    .dataframe thead th {\n",
              "        text-align: right;\n",
              "    }\n",
              "</style>\n",
              "<table border=\"1\" class=\"dataframe\">\n",
              "  <thead>\n",
              "    <tr style=\"text-align: right;\">\n",
              "      <th></th>\n",
              "      <th>Unnamed: 0</th>\n",
              "      <th>Unnamed: 0.1</th>\n",
              "      <th>id</th>\n",
              "      <th>offense</th>\n",
              "      <th>offense_conference</th>\n",
              "      <th>defense</th>\n",
              "      <th>defense_conference</th>\n",
              "      <th>home</th>\n",
              "      <th>away</th>\n",
              "      <th>offense_score</th>\n",
              "      <th>defense_score</th>\n",
              "      <th>period</th>\n",
              "      <th>clock</th>\n",
              "      <th>yards_to_goal</th>\n",
              "      <th>down</th>\n",
              "      <th>distance</th>\n",
              "      <th>kicker_name</th>\n",
              "      <th>play_type</th>\n",
              "      <th>play_text</th>\n",
              "      <th>fg_length</th>\n",
              "      <th>ppa</th>\n",
              "      <th>drive_start_yard_line</th>\n",
              "      <th>number_of_plays_in_drive</th>\n",
              "      <th>yards_gained_during_drive</th>\n",
              "      <th>drive_result</th>\n",
              "      <th>season</th>\n",
              "      <th>fg_percentage</th>\n",
              "      <th>attendance</th>\n",
              "      <th>fg_result</th>\n",
              "      <th>fg_points</th>\n",
              "      <th>less_than_20_percentage</th>\n",
              "      <th>between_20-29_percentage</th>\n",
              "      <th>between_30-39_percentage</th>\n",
              "      <th>between_40-49_percentage</th>\n",
              "      <th>50_plus_percentage</th>\n",
              "      <th>number_attempts_50_plus</th>\n",
              "      <th>total_attempts</th>\n",
              "      <th>next_drive_id</th>\n",
              "      <th>next_drive_game_id</th>\n",
              "      <th>next_drive_offense_conference</th>\n",
              "      <th>next_drive_defense_conference</th>\n",
              "      <th>next_drive_scoring</th>\n",
              "      <th>next_drive_start_period</th>\n",
              "      <th>next_drive_start_yardline</th>\n",
              "      <th>next_drive_start_yards_to_goal</th>\n",
              "      <th>next_drive_start_time</th>\n",
              "      <th>next_drive_yard_line</th>\n",
              "      <th>next_drive_yards_to_goal</th>\n",
              "      <th>next_drive_end_period</th>\n",
              "      <th>next_drive_end_yardline</th>\n",
              "      <th>next_drive_end_yards_to_goal</th>\n",
              "      <th>next_drive_end_time</th>\n",
              "      <th>next_drive_elapsed</th>\n",
              "      <th>next_drive_plays</th>\n",
              "      <th>next_drive_yards</th>\n",
              "      <th>next_drive_drive_result</th>\n",
              "      <th>drive_id</th>\n",
              "      <th>next_drive_points_scored</th>\n",
              "    </tr>\n",
              "  </thead>\n",
              "  <tbody>\n",
              "    <tr>\n",
              "      <th>0</th>\n",
              "      <td>0</td>\n",
              "      <td>0</td>\n",
              "      <td>4.010000e+17</td>\n",
              "      <td>UCF</td>\n",
              "      <td>American Athletic</td>\n",
              "      <td>Penn State</td>\n",
              "      <td>Big Ten</td>\n",
              "      <td>1</td>\n",
              "      <td>Penn State</td>\n",
              "      <td>3</td>\n",
              "      <td>7</td>\n",
              "      <td>2</td>\n",
              "      <td>746</td>\n",
              "      <td>19</td>\n",
              "      <td>4</td>\n",
              "      <td>5</td>\n",
              "      <td>Shawn Moffitt</td>\n",
              "      <td>Field Goal Good</td>\n",
              "      <td>Shawn Moffitt 36 yd FG GOOD</td>\n",
              "      <td>36</td>\n",
              "      <td>-0.347157</td>\n",
              "      <td>37</td>\n",
              "      <td>7</td>\n",
              "      <td>18</td>\n",
              "      <td>FG</td>\n",
              "      <td>2014</td>\n",
              "      <td>0.773913</td>\n",
              "      <td>53304</td>\n",
              "      <td>1</td>\n",
              "      <td>3</td>\n",
              "      <td>1.0</td>\n",
              "      <td>1.000000</td>\n",
              "      <td>0.851064</td>\n",
              "      <td>0.533333</td>\n",
              "      <td>0.285714</td>\n",
              "      <td>7</td>\n",
              "      <td>115</td>\n",
              "      <td>4005476427</td>\n",
              "      <td>400547642</td>\n",
              "      <td>Big Ten</td>\n",
              "      <td>American Athletic</td>\n",
              "      <td>True</td>\n",
              "      <td>2</td>\n",
              "      <td>77</td>\n",
              "      <td>77</td>\n",
              "      <td>{'minutes': 12, 'seconds': 26}</td>\n",
              "      <td>NaN</td>\n",
              "      <td>NaN</td>\n",
              "      <td>2</td>\n",
              "      <td>5</td>\n",
              "      <td>5</td>\n",
              "      <td>{'minutes': 6, 'seconds': 20}</td>\n",
              "      <td>{'minutes': 6, 'seconds': 6}</td>\n",
              "      <td>15</td>\n",
              "      <td>72</td>\n",
              "      <td>FG</td>\n",
              "      <td>4005476426</td>\n",
              "      <td>-3</td>\n",
              "    </tr>\n",
              "    <tr>\n",
              "      <th>1</th>\n",
              "      <td>1</td>\n",
              "      <td>1</td>\n",
              "      <td>4.010000e+17</td>\n",
              "      <td>Penn State</td>\n",
              "      <td>Big Ten</td>\n",
              "      <td>UCF</td>\n",
              "      <td>American Athletic</td>\n",
              "      <td>0</td>\n",
              "      <td>Penn State</td>\n",
              "      <td>10</td>\n",
              "      <td>3</td>\n",
              "      <td>2</td>\n",
              "      <td>380</td>\n",
              "      <td>5</td>\n",
              "      <td>4</td>\n",
              "      <td>5</td>\n",
              "      <td>Sam Ficken</td>\n",
              "      <td>Field Goal Good</td>\n",
              "      <td>Sam Ficken 22 yd FG GOOD</td>\n",
              "      <td>22</td>\n",
              "      <td>-0.947408</td>\n",
              "      <td>77</td>\n",
              "      <td>15</td>\n",
              "      <td>72</td>\n",
              "      <td>FG</td>\n",
              "      <td>2014</td>\n",
              "      <td>0.705128</td>\n",
              "      <td>53304</td>\n",
              "      <td>1</td>\n",
              "      <td>3</td>\n",
              "      <td>0.0</td>\n",
              "      <td>0.909091</td>\n",
              "      <td>0.730769</td>\n",
              "      <td>0.560000</td>\n",
              "      <td>0.500000</td>\n",
              "      <td>4</td>\n",
              "      <td>78</td>\n",
              "      <td>4005476428</td>\n",
              "      <td>400547642</td>\n",
              "      <td>American Athletic</td>\n",
              "      <td>Big Ten</td>\n",
              "      <td>False</td>\n",
              "      <td>2</td>\n",
              "      <td>20</td>\n",
              "      <td>80</td>\n",
              "      <td>{'minutes': 6, 'seconds': 20}</td>\n",
              "      <td>NaN</td>\n",
              "      <td>NaN</td>\n",
              "      <td>2</td>\n",
              "      <td>79</td>\n",
              "      <td>21</td>\n",
              "      <td>{'minutes': 2, 'seconds': 10}</td>\n",
              "      <td>{'minutes': 4, 'seconds': 10}</td>\n",
              "      <td>6</td>\n",
              "      <td>20</td>\n",
              "      <td>PUNT</td>\n",
              "      <td>4005476427</td>\n",
              "      <td>0</td>\n",
              "    </tr>\n",
              "    <tr>\n",
              "      <th>2</th>\n",
              "      <td>2</td>\n",
              "      <td>6</td>\n",
              "      <td>4.010000e+17</td>\n",
              "      <td>Baylor</td>\n",
              "      <td>Big 12</td>\n",
              "      <td>SMU</td>\n",
              "      <td>American Athletic</td>\n",
              "      <td>1</td>\n",
              "      <td>SMU</td>\n",
              "      <td>3</td>\n",
              "      <td>0</td>\n",
              "      <td>1</td>\n",
              "      <td>698</td>\n",
              "      <td>6</td>\n",
              "      <td>4</td>\n",
              "      <td>5</td>\n",
              "      <td>Chris Callahan</td>\n",
              "      <td>Field Goal Good</td>\n",
              "      <td>Chris Callahan 23 Yd Field Goal</td>\n",
              "      <td>23</td>\n",
              "      <td>-0.920088</td>\n",
              "      <td>58</td>\n",
              "      <td>10</td>\n",
              "      <td>52</td>\n",
              "      <td>FG</td>\n",
              "      <td>2014</td>\n",
              "      <td>0.675676</td>\n",
              "      <td>0</td>\n",
              "      <td>1</td>\n",
              "      <td>3</td>\n",
              "      <td>1.0</td>\n",
              "      <td>1.000000</td>\n",
              "      <td>0.681818</td>\n",
              "      <td>0.100000</td>\n",
              "      <td>0.000000</td>\n",
              "      <td>1</td>\n",
              "      <td>74</td>\n",
              "      <td>4005476483</td>\n",
              "      <td>400547648</td>\n",
              "      <td>American Athletic</td>\n",
              "      <td>Big 12</td>\n",
              "      <td>False</td>\n",
              "      <td>1</td>\n",
              "      <td>77</td>\n",
              "      <td>77</td>\n",
              "      <td>{'minutes': 11, 'seconds': 37}</td>\n",
              "      <td>NaN</td>\n",
              "      <td>NaN</td>\n",
              "      <td>1</td>\n",
              "      <td>30</td>\n",
              "      <td>30</td>\n",
              "      <td>{'minutes': 9, 'seconds': 30}</td>\n",
              "      <td>{'minutes': 2, 'seconds': 7}</td>\n",
              "      <td>6</td>\n",
              "      <td>17</td>\n",
              "      <td>PUNT</td>\n",
              "      <td>4005476482</td>\n",
              "      <td>0</td>\n",
              "    </tr>\n",
              "    <tr>\n",
              "      <th>3</th>\n",
              "      <td>3</td>\n",
              "      <td>10</td>\n",
              "      <td>4.010000e+17</td>\n",
              "      <td>East Carolina</td>\n",
              "      <td>American Athletic</td>\n",
              "      <td>South Carolina</td>\n",
              "      <td>SEC</td>\n",
              "      <td>0</td>\n",
              "      <td>East Carolina</td>\n",
              "      <td>3</td>\n",
              "      <td>0</td>\n",
              "      <td>1</td>\n",
              "      <td>560</td>\n",
              "      <td>8</td>\n",
              "      <td>4</td>\n",
              "      <td>8</td>\n",
              "      <td>Warren Harvey</td>\n",
              "      <td>Field Goal Good</td>\n",
              "      <td>Warren Harvey 26 yd FG GOOD</td>\n",
              "      <td>26</td>\n",
              "      <td>-0.699709</td>\n",
              "      <td>97</td>\n",
              "      <td>11</td>\n",
              "      <td>89</td>\n",
              "      <td>FG</td>\n",
              "      <td>2014</td>\n",
              "      <td>0.612245</td>\n",
              "      <td>80899</td>\n",
              "      <td>1</td>\n",
              "      <td>3</td>\n",
              "      <td>1.0</td>\n",
              "      <td>1.000000</td>\n",
              "      <td>0.666667</td>\n",
              "      <td>0.241379</td>\n",
              "      <td>0.000000</td>\n",
              "      <td>5</td>\n",
              "      <td>98</td>\n",
              "      <td>4005476503</td>\n",
              "      <td>400547650</td>\n",
              "      <td>SEC</td>\n",
              "      <td>American Athletic</td>\n",
              "      <td>False</td>\n",
              "      <td>1</td>\n",
              "      <td>22</td>\n",
              "      <td>78</td>\n",
              "      <td>{'minutes': 9, 'seconds': 20}</td>\n",
              "      <td>NaN</td>\n",
              "      <td>NaN</td>\n",
              "      <td>1</td>\n",
              "      <td>22</td>\n",
              "      <td>78</td>\n",
              "      <td>{'minutes': 9, 'seconds': 3}</td>\n",
              "      <td>{'seconds': 17}</td>\n",
              "      <td>2</td>\n",
              "      <td>0</td>\n",
              "      <td>INT</td>\n",
              "      <td>4005476502</td>\n",
              "      <td>0</td>\n",
              "    </tr>\n",
              "    <tr>\n",
              "      <th>4</th>\n",
              "      <td>4</td>\n",
              "      <td>11</td>\n",
              "      <td>4.010000e+17</td>\n",
              "      <td>East Carolina</td>\n",
              "      <td>American Athletic</td>\n",
              "      <td>South Carolina</td>\n",
              "      <td>SEC</td>\n",
              "      <td>0</td>\n",
              "      <td>East Carolina</td>\n",
              "      <td>6</td>\n",
              "      <td>0</td>\n",
              "      <td>1</td>\n",
              "      <td>395</td>\n",
              "      <td>18</td>\n",
              "      <td>4</td>\n",
              "      <td>6</td>\n",
              "      <td>Warren Harvey</td>\n",
              "      <td>Field Goal Good</td>\n",
              "      <td>Warren Harvey 35 yd FG GOOD</td>\n",
              "      <td>35</td>\n",
              "      <td>-0.324004</td>\n",
              "      <td>43</td>\n",
              "      <td>7</td>\n",
              "      <td>25</td>\n",
              "      <td>FG</td>\n",
              "      <td>2014</td>\n",
              "      <td>0.612245</td>\n",
              "      <td>80899</td>\n",
              "      <td>1</td>\n",
              "      <td>3</td>\n",
              "      <td>1.0</td>\n",
              "      <td>1.000000</td>\n",
              "      <td>0.666667</td>\n",
              "      <td>0.241379</td>\n",
              "      <td>0.000000</td>\n",
              "      <td>5</td>\n",
              "      <td>98</td>\n",
              "      <td>4005476505</td>\n",
              "      <td>400547650</td>\n",
              "      <td>SEC</td>\n",
              "      <td>American Athletic</td>\n",
              "      <td>True</td>\n",
              "      <td>1</td>\n",
              "      <td>18</td>\n",
              "      <td>82</td>\n",
              "      <td>{'minutes': 6, 'seconds': 35}</td>\n",
              "      <td>NaN</td>\n",
              "      <td>NaN</td>\n",
              "      <td>1</td>\n",
              "      <td>100</td>\n",
              "      <td>0</td>\n",
              "      <td>{'minutes': 1, 'seconds': 56}</td>\n",
              "      <td>{'minutes': 4, 'seconds': 39}</td>\n",
              "      <td>10</td>\n",
              "      <td>82</td>\n",
              "      <td>TD</td>\n",
              "      <td>4005476504</td>\n",
              "      <td>-7</td>\n",
              "    </tr>\n",
              "  </tbody>\n",
              "</table>\n",
              "</div>"
            ],
            "text/plain": [
              "   Unnamed: 0  Unnamed: 0.1  ...    drive_id next_drive_points_scored\n",
              "0           0             0  ...  4005476426                       -3\n",
              "1           1             1  ...  4005476427                        0\n",
              "2           2             6  ...  4005476482                        0\n",
              "3           3            10  ...  4005476502                        0\n",
              "4           4            11  ...  4005476504                       -7\n",
              "\n",
              "[5 rows x 58 columns]"
            ]
          },
          "metadata": {
            "tags": []
          },
          "execution_count": 31
        }
      ]
    },
    {
      "cell_type": "code",
      "metadata": {
        "id": "RpsVszABRJiq",
        "colab_type": "code",
        "colab": {
          "base_uri": "https://localhost:8080/",
          "height": 1000
        },
        "outputId": "9f0c7083-05dc-412a-9351-810c9cce62d3"
      },
      "source": [
        "dataset.isnull().sum()"
      ],
      "execution_count": null,
      "outputs": [
        {
          "output_type": "execute_result",
          "data": {
            "text/plain": [
              "Unnamed: 0                            0\n",
              "Unnamed: 0.1                          0\n",
              "id                                    0\n",
              "offense                               0\n",
              "offense_conference                    0\n",
              "defense                               0\n",
              "defense_conference                    0\n",
              "home                                  0\n",
              "away                                  0\n",
              "offense_score                         0\n",
              "defense_score                         0\n",
              "period                                0\n",
              "clock                                 0\n",
              "yards_to_goal                         0\n",
              "down                                  0\n",
              "distance                              0\n",
              "kicker_name                           0\n",
              "play_type                             0\n",
              "play_text                             0\n",
              "fg_length                             0\n",
              "ppa                                   0\n",
              "drive_start_yard_line                 0\n",
              "number_of_plays_in_drive              0\n",
              "yards_gained_during_drive             0\n",
              "drive_result                          0\n",
              "season                                0\n",
              "fg_percentage                         0\n",
              "attendance                            0\n",
              "fg_result                             0\n",
              "fg_points                             0\n",
              "less_than_20_percentage               0\n",
              "between_20-29_percentage              0\n",
              "between_30-39_percentage              0\n",
              "between_40-49_percentage              0\n",
              "50_plus_percentage                    0\n",
              "number_attempts_50_plus               0\n",
              "total_attempts                        0\n",
              "next_drive_id                         0\n",
              "next_drive_game_id                    0\n",
              "next_drive_offense_conference         0\n",
              "next_drive_defense_conference         0\n",
              "next_drive_scoring                    0\n",
              "next_drive_start_period               0\n",
              "next_drive_start_yardline             0\n",
              "next_drive_start_yards_to_goal        0\n",
              "next_drive_start_time                 0\n",
              "next_drive_yard_line              27288\n",
              "next_drive_yards_to_goal          27288\n",
              "next_drive_end_period                 0\n",
              "next_drive_end_yardline               0\n",
              "next_drive_end_yards_to_goal          0\n",
              "next_drive_end_time                   0\n",
              "next_drive_elapsed                    0\n",
              "next_drive_plays                      0\n",
              "next_drive_yards                      0\n",
              "next_drive_drive_result               0\n",
              "drive_id                              0\n",
              "next_drive_points_scored              0\n",
              "dtype: int64"
            ]
          },
          "metadata": {
            "tags": []
          },
          "execution_count": 32
        }
      ]
    },
    {
      "cell_type": "code",
      "metadata": {
        "id": "FJXNSTpcBR97",
        "colab_type": "code",
        "colab": {
          "base_uri": "https://localhost:8080/",
          "height": 221
        },
        "outputId": "b4d4f73e-5e17-43b7-9d1c-e2c9a0bd8a13"
      },
      "source": [
        "# Add play type and conference game T/F columns\n",
        "\n",
        "# drop text columns\n",
        "dataset2 = dataset.drop(['offense','offense_conference','defense','defense_conference',\n",
        "                         'play_type','drive_result','next_drive_offense_conference','next_drive_start_time','next_drive_end_time',\n",
        "                         'next_drive_scoring','next_drive_drive_result','next_drive_elapsed'],axis=1)\n",
        "# drop next drive data (we aren't really using it and it has nulls)\n",
        "dataset2 = dataset2.drop(['next_drive_yard_line','next_drive_yards_to_goal','next_drive_id','next_drive_game_id','fg_points',\n",
        "                          'next_drive_start_period','next_drive_start_yardline','next_drive_end_period','play_text',\n",
        "                          'next_drive_end_yardline','next_drive_plays','next_drive_yards', 'home','away','kicker_name',\n",
        "                          'next_drive_start_yards_to_goal','next_drive_end_yards_to_goal','next_drive_points_scored','id','next_drive_defense_conference'\n",
        "                          ,'between_40-49_percentage','between_30-39_percentage','between_20-29_percentage','less_than_20_percentage'\n",
        "                          ,'50_plus_percentage','number_attempts_50_plus'],axis=1)\n",
        "# Extra dropped columns\n",
        "dataset2 = dataset2.drop(['Unnamed: 0','Unnamed: 0.1',\n",
        "                          'drive_id'],axis=1)\n",
        "\n",
        "dataset2 = dataset2.drop(['attendance','ppa','down','yards_gained_during_drive','number_of_plays_in_drive'\n",
        "                          ,'drive_start_yard_line'],axis=1)\n",
        "\n",
        "dataset2.isnull().sum()"
      ],
      "execution_count": null,
      "outputs": [
        {
          "output_type": "execute_result",
          "data": {
            "text/plain": [
              "offense_score     0\n",
              "defense_score     0\n",
              "period            0\n",
              "clock             0\n",
              "yards_to_goal     0\n",
              "distance          0\n",
              "fg_length         0\n",
              "season            0\n",
              "fg_percentage     0\n",
              "fg_result         0\n",
              "total_attempts    0\n",
              "dtype: int64"
            ]
          },
          "metadata": {
            "tags": []
          },
          "execution_count": 55
        }
      ]
    },
    {
      "cell_type": "code",
      "metadata": {
        "id": "nQvACxL8BYGb",
        "colab_type": "code",
        "colab": {}
      },
      "source": [
        "X=dataset2.drop('fg_result',axis=1)\n",
        "y=dataset2.fg_result\n",
        "from sklearn.datasets import make_classification\n",
        "from sklearn.ensemble import GradientBoostingClassifier\n",
        "from sklearn.model_selection import train_test_split\n",
        "# X, y = make_classification(random_state=0)\n",
        "X_train,X_test,y_train,y_test=train_test_split(X,y,test_size=0.3,random_state=1)"
      ],
      "execution_count": null,
      "outputs": []
    },
    {
      "cell_type": "code",
      "metadata": {
        "id": "rrn-ZTmu90WY",
        "colab_type": "code",
        "colab": {
          "base_uri": "https://localhost:8080/",
          "height": 306
        },
        "outputId": "283f4e9c-8b02-4df0-dd62-6336cbe552da"
      },
      "source": [
        "X.info()"
      ],
      "execution_count": null,
      "outputs": [
        {
          "output_type": "stream",
          "text": [
            "<class 'pandas.core.frame.DataFrame'>\n",
            "RangeIndex: 27288 entries, 0 to 27287\n",
            "Data columns (total 10 columns):\n",
            " #   Column          Non-Null Count  Dtype  \n",
            "---  ------          --------------  -----  \n",
            " 0   offense_score   27288 non-null  int64  \n",
            " 1   defense_score   27288 non-null  int64  \n",
            " 2   period          27288 non-null  int64  \n",
            " 3   clock           27288 non-null  int64  \n",
            " 4   yards_to_goal   27288 non-null  int64  \n",
            " 5   distance        27288 non-null  int64  \n",
            " 6   fg_length       27288 non-null  int64  \n",
            " 7   season          27288 non-null  int64  \n",
            " 8   fg_percentage   27288 non-null  float64\n",
            " 9   total_attempts  27288 non-null  int64  \n",
            "dtypes: float64(1), int64(9)\n",
            "memory usage: 2.1 MB\n"
          ],
          "name": "stdout"
        }
      ]
    },
    {
      "cell_type": "markdown",
      "metadata": {
        "id": "BkV6kkioAlSt",
        "colab_type": "text"
      },
      "source": [
        "Below I added just dummy data in under the variable name of Xnew. Then we can just run this dummy row through the model and it will spit out a predicted result. So if you're already able to take inputs from the site then you should be able to plug them right into the array for Xnew and then return the "
      ]
    },
    {
      "cell_type": "code",
      "metadata": {
        "id": "PkBmgTDsBaWI",
        "colab_type": "code",
        "colab": {
          "base_uri": "https://localhost:8080/",
          "height": 34
        },
        "outputId": "8624a5c2-cead-433e-8634-0d0599a2840c"
      },
      "source": [
        "from sklearn.ensemble import GradientBoostingClassifier\n",
        "\n",
        "Xnew = [[14,13,2,34,20,6,30,2015,.87,33]]\n",
        "\n",
        "NBmodel = GaussianNB()\n",
        "NBmodel= NBmodel.fit(X_train,y_train)\n",
        "\n",
        "# prediction = NBmodel.predict(X_test)\n",
        "# prediction\n",
        "\n",
        "# print(NBmodel.intercept_, NBmodel.coef_,)"
      ],
      "execution_count": null,
      "outputs": [
        {
          "output_type": "execute_result",
          "data": {
            "text/plain": [
              "array([0, 1, 1, ..., 1, 1, 1])"
            ]
          },
          "metadata": {
            "tags": []
          },
          "execution_count": 61
        }
      ]
    },
    {
      "cell_type": "code",
      "metadata": {
        "id": "qcx2e3o4LGEK",
        "colab_type": "code",
        "colab": {
          "base_uri": "https://localhost:8080/",
          "height": 68
        },
        "outputId": "16c4e9c6-be73-40c6-bc1e-c60849f15996"
      },
      "source": [
        "\n",
        "from sklearn.metrics import mean_squared_error\n",
        "\n",
        "clf = GradientBoostingClassifier(n_estimators=100, learning_rate=1.0, max_depth=1, random_state=0).fit(X_train, y_train)\n",
        "clf.score(X_test, y_test)\n",
        "clf.predict(Xnew)\n",
        "\n",
        "prediction = clf.predict(X_test)\n",
        "\n",
        "residuals = y_test - prediction\n",
        "mse = mean_squared_error(y_test, clf.predict(X_test))\n",
        "print(\"The mean squared error (MSE) on test set: {:.4f}\".format(mse))\n",
        "\n",
        "y_test_mean = y_test.mean()\n",
        "\n",
        "# # Calculate total sum of squares\n",
        "tss =  sum((y_test - y_test_mean)**2)\n",
        "\n",
        "# # Calculate residual sum of squares\n",
        "rss =  sum(residuals**2)\n",
        "\n",
        "# # Calculate R-squared\n",
        "rsq  =  1 - (rss/tss)\n",
        "print('The R-square of the test data is ', round(rsq,3), '\\n')"
      ],
      "execution_count": null,
      "outputs": [
        {
          "output_type": "stream",
          "text": [
            "The mean squared error (MSE) on test set: 0.1276\n",
            "The R-square of the test data is  0.365 \n",
            "\n"
          ],
          "name": "stdout"
        }
      ]
    },
    {
      "cell_type": "code",
      "metadata": {
        "id": "KDAG52KVR0W3",
        "colab_type": "code",
        "colab": {
          "base_uri": "https://localhost:8080/",
          "height": 979
        },
        "outputId": "0fb48aad-888e-4b58-962e-5bc78d21e2d4"
      },
      "source": [
        "y_pred=NBmodel.predict(X_test)\n",
        "df1=pd.DataFrame({\"Actual Status\":y_test,\"Predicted Status\":y_pred})\n",
        "df1\n",
        "# print(\"X=%s, Predicted=%s\" % (Xnew[0], y_pred[0]))\n",
        "# print(y_pred)"
      ],
      "execution_count": null,
      "outputs": [
        {
          "output_type": "execute_result",
          "data": {
            "text/html": [
              "<div>\n",
              "<style scoped>\n",
              "    .dataframe tbody tr th:only-of-type {\n",
              "        vertical-align: middle;\n",
              "    }\n",
              "\n",
              "    .dataframe tbody tr th {\n",
              "        vertical-align: top;\n",
              "    }\n",
              "\n",
              "    .dataframe thead th {\n",
              "        text-align: right;\n",
              "    }\n",
              "</style>\n",
              "<table border=\"1\" class=\"dataframe\">\n",
              "  <thead>\n",
              "    <tr style=\"text-align: right;\">\n",
              "      <th></th>\n",
              "      <th>Actual Status</th>\n",
              "      <th>Predicted Status</th>\n",
              "    </tr>\n",
              "  </thead>\n",
              "  <tbody>\n",
              "    <tr>\n",
              "      <th>0</th>\n",
              "      <td>0</td>\n",
              "      <td>0</td>\n",
              "    </tr>\n",
              "    <tr>\n",
              "      <th>1</th>\n",
              "      <td>0</td>\n",
              "      <td>0</td>\n",
              "    </tr>\n",
              "    <tr>\n",
              "      <th>2</th>\n",
              "      <td>1</td>\n",
              "      <td>1</td>\n",
              "    </tr>\n",
              "    <tr>\n",
              "      <th>3</th>\n",
              "      <td>0</td>\n",
              "      <td>0</td>\n",
              "    </tr>\n",
              "    <tr>\n",
              "      <th>4</th>\n",
              "      <td>1</td>\n",
              "      <td>0</td>\n",
              "    </tr>\n",
              "    <tr>\n",
              "      <th>5</th>\n",
              "      <td>1</td>\n",
              "      <td>0</td>\n",
              "    </tr>\n",
              "    <tr>\n",
              "      <th>6</th>\n",
              "      <td>0</td>\n",
              "      <td>0</td>\n",
              "    </tr>\n",
              "    <tr>\n",
              "      <th>7</th>\n",
              "      <td>0</td>\n",
              "      <td>0</td>\n",
              "    </tr>\n",
              "    <tr>\n",
              "      <th>8</th>\n",
              "      <td>0</td>\n",
              "      <td>0</td>\n",
              "    </tr>\n",
              "    <tr>\n",
              "      <th>9</th>\n",
              "      <td>1</td>\n",
              "      <td>0</td>\n",
              "    </tr>\n",
              "    <tr>\n",
              "      <th>10</th>\n",
              "      <td>0</td>\n",
              "      <td>0</td>\n",
              "    </tr>\n",
              "    <tr>\n",
              "      <th>11</th>\n",
              "      <td>0</td>\n",
              "      <td>0</td>\n",
              "    </tr>\n",
              "    <tr>\n",
              "      <th>12</th>\n",
              "      <td>0</td>\n",
              "      <td>0</td>\n",
              "    </tr>\n",
              "    <tr>\n",
              "      <th>13</th>\n",
              "      <td>0</td>\n",
              "      <td>0</td>\n",
              "    </tr>\n",
              "    <tr>\n",
              "      <th>14</th>\n",
              "      <td>1</td>\n",
              "      <td>0</td>\n",
              "    </tr>\n",
              "    <tr>\n",
              "      <th>15</th>\n",
              "      <td>0</td>\n",
              "      <td>0</td>\n",
              "    </tr>\n",
              "    <tr>\n",
              "      <th>16</th>\n",
              "      <td>0</td>\n",
              "      <td>0</td>\n",
              "    </tr>\n",
              "    <tr>\n",
              "      <th>17</th>\n",
              "      <td>0</td>\n",
              "      <td>0</td>\n",
              "    </tr>\n",
              "    <tr>\n",
              "      <th>18</th>\n",
              "      <td>0</td>\n",
              "      <td>0</td>\n",
              "    </tr>\n",
              "    <tr>\n",
              "      <th>19</th>\n",
              "      <td>0</td>\n",
              "      <td>0</td>\n",
              "    </tr>\n",
              "    <tr>\n",
              "      <th>20</th>\n",
              "      <td>1</td>\n",
              "      <td>1</td>\n",
              "    </tr>\n",
              "    <tr>\n",
              "      <th>21</th>\n",
              "      <td>0</td>\n",
              "      <td>0</td>\n",
              "    </tr>\n",
              "    <tr>\n",
              "      <th>22</th>\n",
              "      <td>1</td>\n",
              "      <td>1</td>\n",
              "    </tr>\n",
              "    <tr>\n",
              "      <th>23</th>\n",
              "      <td>0</td>\n",
              "      <td>0</td>\n",
              "    </tr>\n",
              "    <tr>\n",
              "      <th>24</th>\n",
              "      <td>1</td>\n",
              "      <td>0</td>\n",
              "    </tr>\n",
              "    <tr>\n",
              "      <th>25</th>\n",
              "      <td>1</td>\n",
              "      <td>1</td>\n",
              "    </tr>\n",
              "    <tr>\n",
              "      <th>26</th>\n",
              "      <td>0</td>\n",
              "      <td>0</td>\n",
              "    </tr>\n",
              "    <tr>\n",
              "      <th>27</th>\n",
              "      <td>1</td>\n",
              "      <td>1</td>\n",
              "    </tr>\n",
              "    <tr>\n",
              "      <th>28</th>\n",
              "      <td>1</td>\n",
              "      <td>1</td>\n",
              "    </tr>\n",
              "    <tr>\n",
              "      <th>29</th>\n",
              "      <td>1</td>\n",
              "      <td>1</td>\n",
              "    </tr>\n",
              "  </tbody>\n",
              "</table>\n",
              "</div>"
            ],
            "text/plain": [
              "    Actual Status  Predicted Status\n",
              "0               0                 0\n",
              "1               0                 0\n",
              "2               1                 1\n",
              "3               0                 0\n",
              "4               1                 0\n",
              "5               1                 0\n",
              "6               0                 0\n",
              "7               0                 0\n",
              "8               0                 0\n",
              "9               1                 0\n",
              "10              0                 0\n",
              "11              0                 0\n",
              "12              0                 0\n",
              "13              0                 0\n",
              "14              1                 0\n",
              "15              0                 0\n",
              "16              0                 0\n",
              "17              0                 0\n",
              "18              0                 0\n",
              "19              0                 0\n",
              "20              1                 1\n",
              "21              0                 0\n",
              "22              1                 1\n",
              "23              0                 0\n",
              "24              1                 0\n",
              "25              1                 1\n",
              "26              0                 0\n",
              "27              1                 1\n",
              "28              1                 1\n",
              "29              1                 1"
            ]
          },
          "metadata": {
            "tags": []
          },
          "execution_count": 39
        }
      ]
    },
    {
      "cell_type": "code",
      "metadata": {
        "id": "CskFCVukR0P3",
        "colab_type": "code",
        "colab": {
          "base_uri": "https://localhost:8080/",
          "height": 170
        },
        "outputId": "766ce1bb-33c6-4e3e-a4bb-6aeb4f67b955"
      },
      "source": [
        "print(classification_report(y_test, y_pred, labels=None, target_names=[\"Strong\",\"Weak\"], sample_weight=None, digits=2))"
      ],
      "execution_count": null,
      "outputs": [
        {
          "output_type": "stream",
          "text": [
            "              precision    recall  f1-score   support\n",
            "\n",
            "      Strong       0.48      0.53      0.51      2282\n",
            "        Weak       0.81      0.78      0.80      5905\n",
            "\n",
            "    accuracy                           0.71      8187\n",
            "   macro avg       0.65      0.66      0.65      8187\n",
            "weighted avg       0.72      0.71      0.71      8187\n",
            "\n"
          ],
          "name": "stdout"
        }
      ]
    },
    {
      "cell_type": "code",
      "metadata": {
        "id": "pwReku1XR0BC",
        "colab_type": "code",
        "colab": {
          "base_uri": "https://localhost:8080/",
          "height": 207
        },
        "outputId": "3e128f19-24e6-4f83-a8cd-0b595fbea9a6"
      },
      "source": [
        "print(confusion_matrix(y_test,y_pred))\n",
        "\n",
        "from sklearn.metrics import classification_report, confusion_matrix\n",
        "\n",
        "pd.crosstab(y_test, y_pred, rownames=['True'], colnames=['Predicted'], margins=True)"
      ],
      "execution_count": null,
      "outputs": [
        {
          "output_type": "stream",
          "text": [
            "[[1214 1068]\n",
            " [1304 4601]]\n"
          ],
          "name": "stdout"
        },
        {
          "output_type": "execute_result",
          "data": {
            "text/html": [
              "<div>\n",
              "<style scoped>\n",
              "    .dataframe tbody tr th:only-of-type {\n",
              "        vertical-align: middle;\n",
              "    }\n",
              "\n",
              "    .dataframe tbody tr th {\n",
              "        vertical-align: top;\n",
              "    }\n",
              "\n",
              "    .dataframe thead th {\n",
              "        text-align: right;\n",
              "    }\n",
              "</style>\n",
              "<table border=\"1\" class=\"dataframe\">\n",
              "  <thead>\n",
              "    <tr style=\"text-align: right;\">\n",
              "      <th>Predicted</th>\n",
              "      <th>0</th>\n",
              "      <th>1</th>\n",
              "      <th>All</th>\n",
              "    </tr>\n",
              "    <tr>\n",
              "      <th>True</th>\n",
              "      <th></th>\n",
              "      <th></th>\n",
              "      <th></th>\n",
              "    </tr>\n",
              "  </thead>\n",
              "  <tbody>\n",
              "    <tr>\n",
              "      <th>0</th>\n",
              "      <td>1214</td>\n",
              "      <td>1068</td>\n",
              "      <td>2282</td>\n",
              "    </tr>\n",
              "    <tr>\n",
              "      <th>1</th>\n",
              "      <td>1304</td>\n",
              "      <td>4601</td>\n",
              "      <td>5905</td>\n",
              "    </tr>\n",
              "    <tr>\n",
              "      <th>All</th>\n",
              "      <td>2518</td>\n",
              "      <td>5669</td>\n",
              "      <td>8187</td>\n",
              "    </tr>\n",
              "  </tbody>\n",
              "</table>\n",
              "</div>"
            ],
            "text/plain": [
              "Predicted     0     1   All\n",
              "True                       \n",
              "0          1214  1068  2282\n",
              "1          1304  4601  5905\n",
              "All        2518  5669  8187"
            ]
          },
          "metadata": {
            "tags": []
          },
          "execution_count": 22
        }
      ]
    },
    {
      "cell_type": "code",
      "metadata": {
        "id": "fBdVJfB6SBT-",
        "colab_type": "code",
        "colab": {
          "base_uri": "https://localhost:8080/",
          "height": 34
        },
        "outputId": "46b03b52-d10a-4440-eaf8-f21dc44b418c"
      },
      "source": [
        "# print(accuracy_score(y_test,y_pred)*100)\n",
        "metrics.accuracy_score(y_test,y_pred)"
      ],
      "execution_count": null,
      "outputs": [
        {
          "output_type": "execute_result",
          "data": {
            "text/plain": [
              "0.7102723830462929"
            ]
          },
          "metadata": {
            "tags": []
          },
          "execution_count": 23
        }
      ]
    },
    {
      "cell_type": "code",
      "metadata": {
        "id": "2n2wj34CSA6X",
        "colab_type": "code",
        "colab": {
          "base_uri": "https://localhost:8080/",
          "height": 34
        },
        "outputId": "f74e4c02-3ae5-4e0c-de38-eb69f7478c8e"
      },
      "source": [
        "print(\"R^2 =\", r2_score(y_test,y_pred))"
      ],
      "execution_count": null,
      "outputs": [
        {
          "output_type": "stream",
          "text": [
            "R^2 = -0.44113256862045236\n"
          ],
          "name": "stdout"
        }
      ]
    },
    {
      "cell_type": "code",
      "metadata": {
        "id": "ndacWmu1Wd7R",
        "colab_type": "code",
        "colab": {
          "base_uri": "https://localhost:8080/",
          "height": 34
        },
        "outputId": "fa5b906b-9f5c-42a9-8264-93d8c829d57e"
      },
      "source": [
        "from sklearn.metrics import roc_auc_score\n",
        "roc_auc_score(y_test,y_pred)"
      ],
      "execution_count": null,
      "outputs": [
        {
          "output_type": "execute_result",
          "data": {
            "text/plain": [
              "0.65154858440054"
            ]
          },
          "metadata": {
            "tags": []
          },
          "execution_count": 14
        }
      ]
    },
    {
      "cell_type": "code",
      "metadata": {
        "id": "STDpMt_Y-Wff",
        "colab_type": "code",
        "colab": {
          "base_uri": "https://localhost:8080/",
          "height": 34
        },
        "outputId": "700334a6-ac73-4025-9c36-37fd87ff59b1"
      },
      "source": [
        "from sklearn.metrics import mean_absolute_error\n",
        "mean_absolute_error(y_test,y_pred)"
      ],
      "execution_count": null,
      "outputs": [
        {
          "output_type": "execute_result",
          "data": {
            "text/plain": [
              "0.28313179430804936"
            ]
          },
          "metadata": {
            "tags": []
          },
          "execution_count": 15
        }
      ]
    },
    {
      "cell_type": "code",
      "metadata": {
        "id": "s-eahSst-kqs",
        "colab_type": "code",
        "colab": {}
      },
      "source": [
        ""
      ],
      "execution_count": null,
      "outputs": []
    }
  ]
}