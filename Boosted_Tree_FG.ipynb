{
  "nbformat": 4,
  "nbformat_minor": 0,
  "metadata": {
    "colab": {
      "name": "Boosted Tree FG.ipynb",
      "provenance": [],
      "collapsed_sections": [],
      "include_colab_link": true
    },
    "kernelspec": {
      "name": "python3",
      "display_name": "Python 3"
    }
  },
  "cells": [
    {
      "cell_type": "markdown",
      "metadata": {
        "id": "view-in-github",
        "colab_type": "text"
      },
      "source": [
        "<a href=\"https://colab.research.google.com/github/jasonjstewart/college-football/blob/master/Boosted_Tree_FG.ipynb\" target=\"_parent\"><img src=\"https://colab.research.google.com/assets/colab-badge.svg\" alt=\"Open In Colab\"/></a>"
      ]
    },
    {
      "cell_type": "code",
      "metadata": {
        "id": "CUybUE2SVDSx",
        "colab_type": "code",
        "colab": {
          "base_uri": "https://localhost:8080/",
          "height": 195
        },
        "outputId": "735eb904-9515-4126-eee7-9499425e3853"
      },
      "source": [
        "from IPython import display\n",
        "from matplotlib import cm\n",
        "from matplotlib import gridspec\n",
        "from matplotlib import pyplot as plt\n",
        "import numpy as np\n",
        "import pandas as pd\n",
        "from sklearn import metrics\n",
        "from sklearn.model_selection import train_test_split\n",
        "from sklearn.ensemble import RandomForestClassifier\n",
        "from sklearn.metrics import confusion_matrix\n",
        "from sklearn.metrics import roc_curve\n",
        "import matplotlib\n",
        "import matplotlib.pyplot as plt\n",
        "from sklearn.datasets import load_iris\n",
        "from sklearn.model_selection import train_test_split\n",
        "from sklearn.naive_bayes import GaussianNB\n",
        "import seaborn as sns\n",
        "from sklearn.metrics import roc_curve\n",
        "from sklearn.metrics import roc_auc_score\n",
        "from sklearn.metrics import classification_report, confusion_matrix, accuracy_score, r2_score\n",
        "\n",
        "\n",
        "url = \"https://jasonstewart.s3.amazonaws.com/BoostedTree-Final-CSV.csv\"\n",
        "\n",
        "dataset = pd.read_csv(url)\n",
        "\n",
        "dataset.head()"
      ],
      "execution_count": 20,
      "outputs": [
        {
          "output_type": "execute_result",
          "data": {
            "text/html": [
              "<div>\n",
              "<style scoped>\n",
              "    .dataframe tbody tr th:only-of-type {\n",
              "        vertical-align: middle;\n",
              "    }\n",
              "\n",
              "    .dataframe tbody tr th {\n",
              "        vertical-align: top;\n",
              "    }\n",
              "\n",
              "    .dataframe thead th {\n",
              "        text-align: right;\n",
              "    }\n",
              "</style>\n",
              "<table border=\"1\" class=\"dataframe\">\n",
              "  <thead>\n",
              "    <tr style=\"text-align: right;\">\n",
              "      <th></th>\n",
              "      <th>offense_score</th>\n",
              "      <th>defense_score</th>\n",
              "      <th>period</th>\n",
              "      <th>clock</th>\n",
              "      <th>yards_to_goal</th>\n",
              "      <th>distance</th>\n",
              "      <th>fg_length</th>\n",
              "      <th>season</th>\n",
              "      <th>fg_percentage</th>\n",
              "      <th>fg_result</th>\n",
              "      <th>total_attempts</th>\n",
              "    </tr>\n",
              "  </thead>\n",
              "  <tbody>\n",
              "    <tr>\n",
              "      <th>0</th>\n",
              "      <td>3</td>\n",
              "      <td>7</td>\n",
              "      <td>2</td>\n",
              "      <td>746</td>\n",
              "      <td>19</td>\n",
              "      <td>5</td>\n",
              "      <td>36</td>\n",
              "      <td>2014</td>\n",
              "      <td>0.773913</td>\n",
              "      <td>1</td>\n",
              "      <td>115</td>\n",
              "    </tr>\n",
              "    <tr>\n",
              "      <th>1</th>\n",
              "      <td>10</td>\n",
              "      <td>3</td>\n",
              "      <td>2</td>\n",
              "      <td>380</td>\n",
              "      <td>5</td>\n",
              "      <td>5</td>\n",
              "      <td>22</td>\n",
              "      <td>2014</td>\n",
              "      <td>0.705128</td>\n",
              "      <td>1</td>\n",
              "      <td>78</td>\n",
              "    </tr>\n",
              "    <tr>\n",
              "      <th>2</th>\n",
              "      <td>3</td>\n",
              "      <td>0</td>\n",
              "      <td>1</td>\n",
              "      <td>698</td>\n",
              "      <td>6</td>\n",
              "      <td>5</td>\n",
              "      <td>23</td>\n",
              "      <td>2014</td>\n",
              "      <td>0.675676</td>\n",
              "      <td>1</td>\n",
              "      <td>74</td>\n",
              "    </tr>\n",
              "    <tr>\n",
              "      <th>3</th>\n",
              "      <td>3</td>\n",
              "      <td>0</td>\n",
              "      <td>1</td>\n",
              "      <td>560</td>\n",
              "      <td>8</td>\n",
              "      <td>8</td>\n",
              "      <td>26</td>\n",
              "      <td>2014</td>\n",
              "      <td>0.612245</td>\n",
              "      <td>1</td>\n",
              "      <td>98</td>\n",
              "    </tr>\n",
              "    <tr>\n",
              "      <th>4</th>\n",
              "      <td>6</td>\n",
              "      <td>0</td>\n",
              "      <td>1</td>\n",
              "      <td>395</td>\n",
              "      <td>18</td>\n",
              "      <td>6</td>\n",
              "      <td>35</td>\n",
              "      <td>2014</td>\n",
              "      <td>0.612245</td>\n",
              "      <td>1</td>\n",
              "      <td>98</td>\n",
              "    </tr>\n",
              "  </tbody>\n",
              "</table>\n",
              "</div>"
            ],
            "text/plain": [
              "   offense_score  defense_score  ...  fg_result  total_attempts\n",
              "0              3              7  ...          1             115\n",
              "1             10              3  ...          1              78\n",
              "2              3              0  ...          1              74\n",
              "3              3              0  ...          1              98\n",
              "4              6              0  ...          1              98\n",
              "\n",
              "[5 rows x 11 columns]"
            ]
          },
          "metadata": {
            "tags": []
          },
          "execution_count": 20
        }
      ]
    },
    {
      "cell_type": "code",
      "metadata": {
        "id": "so9cSMSLVGPo",
        "colab_type": "code",
        "colab": {}
      },
      "source": [
        "# Add play type and conference game T/F columns\n",
        "\n",
        "# drop text columns\n",
        "# dataset2 = dataset.drop(['offense','offense_conference','defense','defense_conference',\n",
        "#                          'play_type','drive_result','next_drive_offense_conference','next_drive_start_time','next_drive_end_time',\n",
        "#                          'next_drive_scoring','next_drive_drive_result','next_drive_elapsed'],axis=1)\n",
        "# dataset2 = dataset2.drop(['next_drive_yard_line','next_drive_yards_to_goal','next_drive_id','next_drive_game_id','fg_points',\n",
        "#                           'next_drive_start_period','next_drive_start_yardline','next_drive_end_period','play_text',\n",
        "#                           'next_drive_end_yardline','next_drive_plays','next_drive_yards', 'home','away','kicker_name',\n",
        "#                           'next_drive_start_yards_to_goal','next_drive_end_yards_to_goal','next_drive_points_scored','id','next_drive_defense_conference'\n",
        "#                           ,'between_40-49_percentage','between_30-39_percentage','between_20-29_percentage','less_than_20_percentage'\n",
        "#                           ,'50_plus_percentage','number_attempts_50_plus','Unnamed: 0','Unnamed: 0.1',\n",
        "#                           'drive_id','attendance','ppa','down','yards_gained_during_drive','number_of_plays_in_drive'\n",
        "#                           ,'drive_start_yard_line'],axis=1)\n",
        "# dataset2.isnull().sum()\n",
        "#dataset.info()"
      ],
      "execution_count": 21,
      "outputs": []
    },
    {
      "cell_type": "code",
      "metadata": {
        "id": "x1mHvDjaVLHp",
        "colab_type": "code",
        "colab": {}
      },
      "source": [
        "from sklearn.datasets import make_classification\n",
        "from sklearn.ensemble import GradientBoostingClassifier\n",
        "from sklearn.model_selection import train_test_split\n",
        "# X, y = make_classification(random_state=0)\n",
        "X=dataset.drop('fg_result',axis=1)\n",
        "y=dataset.fg_result\n",
        "X_train,X_test,y_train,y_test=train_test_split(X,y,test_size=0.3,random_state=1)"
      ],
      "execution_count": 22,
      "outputs": []
    },
    {
      "cell_type": "code",
      "metadata": {
        "id": "X6kosqe7VzMs",
        "colab_type": "code",
        "colab": {}
      },
      "source": [
        "from sklearn.ensemble import GradientBoostingClassifier\n",
        "\n",
        "Xnew = [[14,13,2,122,20,6,30,2015,.87,25]]"
      ],
      "execution_count": 23,
      "outputs": []
    },
    {
      "cell_type": "code",
      "metadata": {
        "id": "3a4eXXTuV6b-",
        "colab_type": "code",
        "colab": {
          "base_uri": "https://localhost:8080/",
          "height": 34
        },
        "outputId": "2929e1ce-8ab3-42bd-c222-2876e1abc691"
      },
      "source": [
        "from sklearn.metrics import mean_squared_error\n",
        "\n",
        "clf = GradientBoostingClassifier(n_estimators=100, learning_rate=1.0, max_depth=1, random_state=0).fit(X_train, y_train)\n",
        "clf.score(X_test, y_test)\n",
        "predicted = (clf.predict(Xnew))\n",
        "print(\"X=%s, Predicted=%s\" % (Xnew[0], predicted[0]))"
      ],
      "execution_count": 24,
      "outputs": [
        {
          "output_type": "stream",
          "text": [
            "X=[14, 13, 2, 122, 20, 6, 30, 2015, 0.87, 25], Predicted=1\n"
          ],
          "name": "stdout"
        }
      ]
    },
    {
      "cell_type": "code",
      "metadata": {
        "id": "B2scM00SV9XV",
        "colab_type": "code",
        "colab": {
          "base_uri": "https://localhost:8080/",
          "height": 67
        },
        "outputId": "6549789d-8541-462a-dbaf-3cc6b001051c"
      },
      "source": [
        "y_pred = clf.predict(X_test)\n",
        "\n",
        "residuals = y_test - y_pred\n",
        "mse = mean_squared_error(y_test, clf.predict(X_test))\n",
        "print(\"The mean squared error (MSE) on test set: {:.4f}\".format(mse))\n",
        "\n",
        "y_test_mean = y_test.mean()\n",
        "\n",
        "# # Calculate total sum of squares\n",
        "tss =  sum((y_test - y_test_mean)**2)\n",
        "\n",
        "# # Calculate residual sum of squares\n",
        "rss =  sum(residuals**2)\n",
        "\n",
        "# # Calculate R-squared\n",
        "rsq  =  1 - (rss/tss)\n",
        "print('The R-square of the test data is ', round(rsq,3), '\\n')"
      ],
      "execution_count": 25,
      "outputs": [
        {
          "output_type": "stream",
          "text": [
            "The mean squared error (MSE) on test set: 0.1276\n",
            "The R-square of the test data is  0.365 \n",
            "\n"
          ],
          "name": "stdout"
        }
      ]
    },
    {
      "cell_type": "code",
      "metadata": {
        "id": "TMDNcZyxWJg0",
        "colab_type": "code",
        "colab": {
          "base_uri": "https://localhost:8080/",
          "height": 166
        },
        "outputId": "361ce165-0b12-4cff-b0b5-a88915fab6a0"
      },
      "source": [
        "from sklearn.metrics import classification_report, confusion_matrix\n",
        "\n",
        "pd.crosstab(y_test, y_pred, rownames=['True'], colnames=['Predicted'], margins=True)"
      ],
      "execution_count": 26,
      "outputs": [
        {
          "output_type": "execute_result",
          "data": {
            "text/html": [
              "<div>\n",
              "<style scoped>\n",
              "    .dataframe tbody tr th:only-of-type {\n",
              "        vertical-align: middle;\n",
              "    }\n",
              "\n",
              "    .dataframe tbody tr th {\n",
              "        vertical-align: top;\n",
              "    }\n",
              "\n",
              "    .dataframe thead th {\n",
              "        text-align: right;\n",
              "    }\n",
              "</style>\n",
              "<table border=\"1\" class=\"dataframe\">\n",
              "  <thead>\n",
              "    <tr style=\"text-align: right;\">\n",
              "      <th>Predicted</th>\n",
              "      <th>0</th>\n",
              "      <th>1</th>\n",
              "      <th>All</th>\n",
              "    </tr>\n",
              "    <tr>\n",
              "      <th>True</th>\n",
              "      <th></th>\n",
              "      <th></th>\n",
              "      <th></th>\n",
              "    </tr>\n",
              "  </thead>\n",
              "  <tbody>\n",
              "    <tr>\n",
              "      <th>0</th>\n",
              "      <td>1388</td>\n",
              "      <td>894</td>\n",
              "      <td>2282</td>\n",
              "    </tr>\n",
              "    <tr>\n",
              "      <th>1</th>\n",
              "      <td>151</td>\n",
              "      <td>5754</td>\n",
              "      <td>5905</td>\n",
              "    </tr>\n",
              "    <tr>\n",
              "      <th>All</th>\n",
              "      <td>1539</td>\n",
              "      <td>6648</td>\n",
              "      <td>8187</td>\n",
              "    </tr>\n",
              "  </tbody>\n",
              "</table>\n",
              "</div>"
            ],
            "text/plain": [
              "Predicted     0     1   All\n",
              "True                       \n",
              "0          1388   894  2282\n",
              "1           151  5754  5905\n",
              "All        1539  6648  8187"
            ]
          },
          "metadata": {
            "tags": []
          },
          "execution_count": 26
        }
      ]
    },
    {
      "cell_type": "code",
      "metadata": {
        "id": "zxfL3mdJW2Vy",
        "colab_type": "code",
        "colab": {}
      },
      "source": [
        ""
      ],
      "execution_count": 26,
      "outputs": []
    }
  ]
}